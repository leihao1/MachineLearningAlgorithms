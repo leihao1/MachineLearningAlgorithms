{
  "nbformat": 4,
  "nbformat_minor": 0,
  "metadata": {
    "colab": {
      "name": "PCY",
      "version": "0.3.2",
      "views": {},
      "default_view": {},
      "provenance": [],
      "collapsed_sections": []
    },
    "kernelspec": {
      "name": "python3",
      "display_name": "Python 3"
    },
    "accelerator": "GPU"
  },
  "cells": [
    {
      "metadata": {
        "id": "BxVffE5bIQi2",
        "colab_type": "code",
        "colab": {
          "autoexec": {
            "startup": false,
            "wait_interval": 0
          },
          "output_extras": [
            {
              "item_id": 1
            }
          ],
          "resources": {
            "http://localhost:8080/nbextensions/google.colab/files.js": {
              "data": "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",
              "ok": true,
              "headers": [
                [
                  "content-type",
                  "application/javascript"
                ]
              ],
              "status": 200,
              "status_text": ""
            }
          },
          "base_uri": "https://localhost:8080/",
          "height": 58
        },
        "outputId": "06c215da-e740-4177-9f4a-773a1c135dbe",
        "executionInfo": {
          "status": "ok",
          "timestamp": 1519010136015,
          "user_tz": 300,
          "elapsed": 140737,
          "user": {
            "displayName": "Hao Lei",
            "photoUrl": "//lh4.googleusercontent.com/-R3lztszbk7k/AAAAAAAAAAI/AAAAAAAAAOo/VSvEgEQmJ5Y/s50-c-k-no/photo.jpg",
            "userId": "102623142902448041010"
          }
        }
      },
      "cell_type": "code",
      "source": [
        "from google.colab import files\n",
        "uploaded = files.upload()\n",
        "\n",
        "filename=list(uploaded.keys())[0]\n",
        "\n",
        "with open(filename, 'wb') as f:\n",
        "    f.write(uploaded[filename])"
      ],
      "execution_count": 58,
      "outputs": [
        {
          "output_type": "display_data",
          "data": {
            "text/html": [
              "\n",
              "     <input type=\"file\" id=\"files-a3b2d0df-8c6c-40ce-a2ba-def074f0db0f\" name=\"files[]\" multiple disabled />\n",
              "     <output id=\"result-a3b2d0df-8c6c-40ce-a2ba-def074f0db0f\">\n",
              "      Upload widget is only available when the cell has been executed in the\n",
              "      current browser session. Please rerun this cell to enable.\n",
              "      </output>\n",
              "      <script src=\"/nbextensions/google.colab/files.js\"</script> "
            ],
            "text/plain": [
              "<IPython.core.display.HTML object>"
            ]
          },
          "metadata": {
            "tags": []
          }
        }
      ]
    },
    {
      "metadata": {
        "id": "DbPNkDV4IWMi",
        "colab_type": "code",
        "colab": {
          "autoexec": {
            "startup": false,
            "wait_interval": 0
          }
        }
      },
      "cell_type": "code",
      "source": [
        "!cat /proc/meminfo\n",
        "!cat /proc/cpuinfo\n",
        "!df -h\n"
      ],
      "execution_count": 0,
      "outputs": []
    },
    {
      "metadata": {
        "id": "1QtDv4HfyUKY",
        "colab_type": "code",
        "colab": {
          "autoexec": {
            "startup": false,
            "wait_interval": 0
          },
          "output_extras": [
            {
              "item_id": 1
            }
          ],
          "base_uri": "https://localhost:8080/",
          "height": 35
        },
        "outputId": "dcaca85b-bff8-4e75-a8d6-02e7d044d4a2",
        "executionInfo": {
          "status": "ok",
          "timestamp": 1519010908135,
          "user_tz": 300,
          "elapsed": 3266,
          "user": {
            "displayName": "Hao Lei",
            "photoUrl": "//lh4.googleusercontent.com/-R3lztszbk7k/AAAAAAAAAAI/AAAAAAAAAOo/VSvEgEQmJ5Y/s50-c-k-no/photo.jpg",
            "userId": "102623142902448041010"
          }
        }
      },
      "cell_type": "code",
      "source": [
        "ls"
      ],
      "execution_count": 1,
      "outputs": [
        {
          "output_type": "stream",
          "text": [
            "accidents.dat  \u001b[0m\u001b[01;34mdatalab\u001b[0m/  retail.dat\r\n"
          ],
          "name": "stdout"
        }
      ]
    },
    {
      "metadata": {
        "id": "jHXS_yCqNVyG",
        "colab_type": "code",
        "colab": {
          "autoexec": {
            "startup": false,
            "wait_interval": 0
          }
        }
      },
      "cell_type": "code",
      "source": [
        "import sys,csv,time\n",
        "\n",
        "\n",
        "def open_file():\n",
        "    with open('retail.dat','r') as fi:\n",
        "        reader=csv.reader(fi)\n",
        "        lines=list(reader)\n",
        "    temp=[i[0].split(' ') for i in lines]\n",
        "    rows=[i[:-1] for i in temp]\n",
        "    return rows\n",
        "\n",
        "  \n",
        "def pass1(baskets,s):\n",
        "    items={}\n",
        "    hasht={}\n",
        "    \n",
        "    for b in baskets:\n",
        "      for i in range(len(b)):\n",
        "        if b[i] not in items:\n",
        "          items[b[i]]=1\n",
        "        else:\n",
        "          items[b[i]]+=1\n",
        "        for j in range(i+1,len(b)):\n",
        "          pair=(b[i],b[j])\n",
        "          bucket=hash(pair)\n",
        "          #bucket=int(b[i]+b[j])%N\n",
        "          if bucket not in hasht:\n",
        "            hasht[bucket]=1\n",
        "          elif hasht[bucket]<s:\n",
        "            hasht[bucket]+=1\n",
        "    '''\n",
        "    for b in baskets:\n",
        "      for i in b:\n",
        "        if i not in items:\n",
        "          items[i]=1\n",
        "        else:\n",
        "          items[i]+=1\n",
        "    print('C1:',len(items))\n",
        "    for b in baskets:\n",
        "      for i in range(len(b)-1):\n",
        "        for j in range(i+1,len(b)):\n",
        "          pair=(b[i],b[j])\n",
        "          bucket=hash(pair)%N\n",
        "          #bucket=int(b[i]+b[j])%N\n",
        "          if bucket in hasht:\n",
        "            hasht[bucket]+=1\n",
        "          else:\n",
        "            hasht[bucket]=1\n",
        "    '''\n",
        "    print('Hash Table:',len(hasht))\n",
        "    rest=[i for i in hasht if hasht[i]>=s]\n",
        "    print('More Than S:',len(rest))\n",
        "    \n",
        "    frequent_items=[(i,) for i in items if items[i] >= s]\n",
        "    print('L1:',len(frequent_items))\n",
        "    return frequent_items,hasht\n",
        "\n",
        "  \n",
        "def pass2(ffc,baskets,s,vector):\n",
        "    candidates={}\n",
        "    for i in range(len(ffc)-1):\n",
        "        for j in range(i+1,len(ffc)):\n",
        "          pair=ffc[i]+ffc[j]\n",
        "          h=hash(pair)\n",
        "          if h in vector:\n",
        "            candidates[pair]=0\n",
        "    print('C2'+':',len(candidates))\n",
        "    for b in baskets:\n",
        "        for c in candidates:\n",
        "          if c[1] in b and c[0] in b:\n",
        "            candidates[c]+=1\n",
        "\n",
        "    freq_candidates=[i for i in candidates if candidates[i]>=s]\n",
        "    print('L2'+':',len(freq_candidates))\n",
        "    return freq_candidates\n",
        "  \n",
        "  \n",
        "#ffc=former frequent candidates\n",
        "#s=support\n",
        "#K=the size of frequent items that will return \n",
        "def passk(K,ffc,baskets,s):\n",
        "    assert(K>1),'Can Not Use Passk() At First Pass'\n",
        "    def all_in_former(merged,ffc):\n",
        "        sub={}\n",
        "        merged=list(merged)\n",
        "        for i in merged:\n",
        "          temp=[i for i in merged]\n",
        "          temp.remove(i)\n",
        "          sub[tuple(temp)]=False  \n",
        "        for c in ffc:\n",
        "          for s in sub:\n",
        "            if set(c)==set(s):\n",
        "              sub[s]=True\n",
        "        all_in=True\n",
        "        for s in sub:\n",
        "          if sub[s]==False:\n",
        "            all_in=False   \n",
        "        return all_in\n",
        "      \n",
        "    def not_duplicate(merged,candidates):\n",
        "        not_in=True\n",
        "        for t in candidates:\n",
        "            if set(t)==set(merged):\n",
        "                not_in=False\n",
        "        return not_in\n",
        "    \n",
        "    candidates={}\n",
        "    \n",
        "    for i in range(len(ffc)-1):\n",
        "        for j in range(i+1,len(ffc)):\n",
        "            merged=tuple(set(ffc[i]+ffc[j]))\n",
        "            if len(merged)==K:\n",
        "                if not_duplicate(merged,candidates):\n",
        "                    if all_in_former(merged,ffc):\n",
        "                        candidates[merged]=0\n",
        "    print('C'+str(K)+':',len(candidates))\n",
        "                       \n",
        "    check=[]\n",
        "    t=list(candidates)\n",
        "    for i in range(len(t)-1):\n",
        "        for j in range(i+1,len(t)):\n",
        "            if set(t[i]) == set(t[j]):\n",
        "                check.append(t[j])\n",
        "    assert(len(check)==0),'Exist Duplicate Candidate Elements'\n",
        "    \n",
        "    for b in baskets:\n",
        "        for c in candidates:\n",
        "            all_in_basket=True\n",
        "            for i in c:\n",
        "                if i not in b:\n",
        "                    all_in_basket=False\n",
        "                    break\n",
        "            if all_in_basket:\n",
        "                candidates[c]+=1\n",
        "        \n",
        "    freq_candidates=[i for i in candidates if candidates[i]>=s]\n",
        "    print('L'+str(K)+':',len(freq_candidates))\n",
        "    return freq_candidates\n",
        "  \n",
        "  \n",
        "def pcy(K,sup_rate=0.01,confidence=0.5):\n",
        "  start = time.clock()\n",
        "  \n",
        "  baskets=open_file()\n",
        "  del baskets[0]\n",
        "  print('Baskets:',len(baskets))\n",
        "  support=sup_rate*len(baskets)\n",
        "  print('Support:',support)\n",
        "  \n",
        "  singleton,hasht=pass1(baskets,support)\n",
        "  \n",
        "  \n",
        "  for i in hasht:\n",
        "    if hasht[i]>=support:\n",
        "      hasht[i]=1\n",
        "    else:\n",
        "      hasht[i]=0\n",
        "  vector=[i for i in hasht if hasht[i]==1]\n",
        "  \n",
        "  freq_items=singleton\n",
        "  for i in range(2,K+1):\n",
        "    if i==2:\n",
        "        freq_items=pass2(freq_items,baskets,support,vector)\n",
        "    else:\n",
        "        freq_items=passk(i,freq_items,baskets,support)\n",
        "  \n",
        "  print ('Run Time:',time.clock()-start)\n",
        "  return freq_items\n",
        "\n",
        "\n"
      ],
      "execution_count": 0,
      "outputs": []
    },
    {
      "metadata": {
        "id": "4nRbHJ9VZXmE",
        "colab_type": "code",
        "colab": {
          "autoexec": {
            "startup": false,
            "wait_interval": 0
          },
          "output_extras": [
            {
              "item_id": 6
            }
          ],
          "base_uri": "https://localhost:8080/",
          "height": 269
        },
        "outputId": "e620f5c4-627c-4ae4-d5de-b2ce83e122b9",
        "executionInfo": {
          "status": "ok",
          "timestamp": 1519013394600,
          "user_tz": 300,
          "elapsed": 12540,
          "user": {
            "displayName": "Hao Lei",
            "photoUrl": "//lh4.googleusercontent.com/-R3lztszbk7k/AAAAAAAAAAI/AAAAAAAAAOo/VSvEgEQmJ5Y/s50-c-k-no/photo.jpg",
            "userId": "102623142902448041010"
          }
        }
      },
      "cell_type": "code",
      "source": [
        "test=pcy(5)"
      ],
      "execution_count": 8,
      "outputs": [
        {
          "output_type": "stream",
          "text": [
            "Baskets: 88161\n",
            "Support: 881.61\n",
            "Hash Table: 3586542\n",
            "More Than S: 58\n",
            "L1: 70\n",
            "C2: 58\n",
            "L2: 58\n",
            "C3: 37\n",
            "L3: 25\n",
            "C4: 6\n",
            "L4: 6\n",
            "C5: 0\n",
            "L5: 0\n",
            "Run Time: 12.13500700000003\n"
          ],
          "name": "stdout"
        }
      ]
    },
    {
      "metadata": {
        "id": "LN44ucfDDHUQ",
        "colab_type": "text"
      },
      "cell_type": "markdown",
      "source": [
        "**test**"
      ]
    },
    {
      "metadata": {
        "id": "eFib8B2HIYwK",
        "colab_type": "code",
        "colab": {
          "autoexec": {
            "startup": false,
            "wait_interval": 0
          },
          "output_extras": [
            {
              "item_id": 3
            }
          ],
          "base_uri": "https://localhost:8080/",
          "height": 169
        },
        "outputId": "3c3fc60d-6021-461c-a830-3af6efd1aab4",
        "executionInfo": {
          "status": "ok",
          "timestamp": 1519013484896,
          "user_tz": 300,
          "elapsed": 15251,
          "user": {
            "displayName": "Hao Lei",
            "photoUrl": "//lh4.googleusercontent.com/-R3lztszbk7k/AAAAAAAAAAI/AAAAAAAAAOo/VSvEgEQmJ5Y/s50-c-k-no/photo.jpg",
            "userId": "102623142902448041010"
          }
        }
      },
      "cell_type": "code",
      "source": [
        "from math import *\n",
        "start = time.clock()\n",
        "\n",
        "baskets=open_file()\n",
        "del baskets[0]\n",
        "support=0.01*len(baskets)\n",
        "\n",
        "candidates={}\n",
        "'''\n",
        "sort_baskets=[]\n",
        "for i in baskets:\n",
        "  sort_baskets.append(sorted(i))\n",
        "'''\n",
        "for b in baskets:\n",
        "  for i in b:\n",
        "    if i not in candidates:\n",
        "        candidates[i]=1\n",
        "    else:\n",
        "        candidates[i]+=1\n",
        "\n",
        "C1=len(candidates)\n",
        "N=2**20\n",
        "ap=[]\n",
        "count=0\n",
        "hasht={}\n",
        "\n",
        "for b in baskets:\n",
        "  for i in range(len(b)-1):\n",
        "    for j in range(i+1,len(b)):\n",
        "      pair=(b[i],b[j])\n",
        "      bc=hash(pair)\n",
        "      bucket=hash(pair)\n",
        "      \n",
        "      count+=1\n",
        "      ap.append(bc)\n",
        "      \n",
        "      if bucket in hasht:\n",
        "        hasht[bucket]+=1\n",
        "      else:\n",
        "        hasht[bucket]=1\n",
        "\n",
        "singleton=[i for i in candidates if candidates[i]>=support]\n",
        "\n",
        "\n",
        "print('all items:',C1)    \n",
        "print('all possible pairs:',C1*(C1-1)//2)\n",
        "print('actual pairs:',len(ap)+count)\n",
        "print('unique pairs:',len(set(ap)))\n",
        "print('hash   table:',len(hasht))\n",
        "rest=[i for i in hasht if hasht[i]>=support]\n",
        "print('more than  s:',len(rest))\n",
        "print('singleton:',len(singleton))\n",
        "print('C2=(L1 2)   :',len(singleton)*(len(singleton)-1)//2)\n",
        "\n",
        "print ('Run Time:',time.clock()-start)"
      ],
      "execution_count": 11,
      "outputs": [
        {
          "output_type": "stream",
          "text": [
            "all items: 16470\n",
            "all possible pairs: 135622215\n",
            "actual pairs: 14327800\n",
            "unique pairs: 3586542\n",
            "hash   table: 3586542\n",
            "more than  s: 58\n",
            "singleton: 70\n",
            "C2=(L1 2)   : 2415\n",
            "Run Time: 14.706275000000005\n"
          ],
          "name": "stdout"
        }
      ]
    },
    {
      "metadata": {
        "id": "mn3TKJ-hBZOD",
        "colab_type": "code",
        "colab": {
          "autoexec": {
            "startup": false,
            "wait_interval": 0
          }
        }
      },
      "cell_type": "code",
      "source": [
        ""
      ],
      "execution_count": 0,
      "outputs": []
    },
    {
      "metadata": {
        "id": "PTwa0tVW8pno",
        "colab_type": "code",
        "colab": {
          "autoexec": {
            "startup": false,
            "wait_interval": 0
          }
        }
      },
      "cell_type": "code",
      "source": [
        "all items: 468\n",
        "all possible pairs: 109278\n",
        "actual pairs: 190125806\n",
        "unique pairs: 0\n",
        "hash   table: 4096\n",
        "more than  s: 3373\n",
        "singleton: 166\n",
        "C2=(L1 2)   : 13695\n",
        "Run Time: 189.04417"
      ],
      "execution_count": 0,
      "outputs": []
    }
  ]
}